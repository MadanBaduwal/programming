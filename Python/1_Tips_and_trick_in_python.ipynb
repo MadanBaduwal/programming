{
  "nbformat": 4,
  "nbformat_minor": 0,
  "metadata": {
    "colab": {
      "provenance": [],
      "collapsed_sections": []
    },
    "kernelspec": {
      "name": "python3",
      "display_name": "Python 3"
    }
  },
  "cells": [
    {
      "cell_type": "markdown",
      "metadata": {
        "id": "OxwHxfeDjd5R"
      },
      "source": [
        "In python, Everything is an **object**\n",
        "- Everything is an object in the sense that it can be\n",
        "assigned to a variable or passed as an argument to a\n",
        "function\n",
        "- I really mean that everything is an object – even the\n",
        "attributes and methods of objects are themselves\n",
        "objects with their own type information\n",
        "\n",
        "attributes : In computing, an attribute is a specification that defines a property of an object, element, or file. It may also refer to or set the specific value for a given instance of such. For clarity, attributes should more correctly be considered metadata.\n",
        "example : variables of an object,..."
      ]
    },
    {
      "cell_type": "markdown",
      "metadata": {
        "id": "JNjBwC8ue-bt"
      },
      "source": [
        "# Tips/trick and quiz in python"
      ]
    },
    {
      "cell_type": "markdown",
      "metadata": {
        "id": "AfBh37AGARRK"
      },
      "source": [
        "##0.Python is about\n",
        "\n",
        "* iterator(List(most))\n",
        "    * for loop (for loop with iterator)\n",
        "         * if elsif else(inside for loop) (start:end:step)\n",
        "             * iterator[one bracket bhitra(row),fer one bracket bhitra(nested ror),..,column]\n"
      ]
    },
    {
      "cell_type": "markdown",
      "metadata": {
        "id": "kHTbxSU1of_k"
      },
      "source": [
        "## 1. Swapping of TWo numbers"
      ]
    },
    {
      "cell_type": "code",
      "metadata": {
        "id": "J_sSY8ktpB3C",
        "colab": {
          "base_uri": "https://localhost:8080/",
          "height": 34
        },
        "outputId": "d796e3f3-76ff-4bef-d535-a6db16d1121d"
      },
      "source": [
        "x,y=10,20\n",
        "print(x,y)"
      ],
      "execution_count": null,
      "outputs": [
        {
          "output_type": "stream",
          "text": [
            "10 20\n"
          ],
          "name": "stdout"
        }
      ]
    },
    {
      "cell_type": "code",
      "metadata": {
        "id": "6sCe8E0ipFRC",
        "colab": {
          "base_uri": "https://localhost:8080/",
          "height": 34
        },
        "outputId": "c93fbb95-e673-4dca-cf5d-71362f321e7f"
      },
      "source": [
        "y,x=x,y\n",
        "print(x,y)"
      ],
      "execution_count": null,
      "outputs": [
        {
          "output_type": "stream",
          "text": [
            "20 10\n"
          ],
          "name": "stdout"
        }
      ]
    },
    {
      "cell_type": "markdown",
      "metadata": {
        "id": "wuXZKCaTpMro"
      },
      "source": [
        "## 2. Creating a single string all the elements in list "
      ]
    },
    {
      "cell_type": "code",
      "metadata": {
        "id": "vT9MjjpxpLiv",
        "colab": {
          "base_uri": "https://localhost:8080/",
          "height": 34
        },
        "outputId": "2dc78d82-f1c3-46f0-c23f-d6cc1fe87aa8"
      },
      "source": [
        "a=['madan','baduwal','address','lamki','kailali']\n",
        "print(''.join(a))"
      ],
      "execution_count": null,
      "outputs": [
        {
          "output_type": "stream",
          "text": [
            "madanbaduwaladdresslamkikailali\n"
          ],
          "name": "stdout"
        }
      ]
    },
    {
      "cell_type": "markdown",
      "metadata": {
        "id": "Q1Q9iFMpp6MR"
      },
      "source": [
        "## 3.Print the file path of imported modules"
      ]
    },
    {
      "cell_type": "code",
      "metadata": {
        "id": "re7B4ei2pohK",
        "colab": {
          "base_uri": "https://localhost:8080/",
          "height": 34
        },
        "outputId": "0f39df18-97b2-40ce-8362-7b455335a764"
      },
      "source": [
        "import os\n",
        "\n",
        "print(os)"
      ],
      "execution_count": null,
      "outputs": [
        {
          "output_type": "stream",
          "text": [
            "<module 'os' from '/usr/lib/python3.6/os.py'>\n"
          ],
          "name": "stdout"
        }
      ]
    },
    {
      "cell_type": "markdown",
      "metadata": {
        "id": "zsB0d2PAqs9V"
      },
      "source": [
        "## 4. Use of Enums in python"
      ]
    },
    {
      "cell_type": "code",
      "metadata": {
        "id": "-JKsYDXVqCz5"
      },
      "source": [
        "class madan:\n",
        "\n",
        "  one,two,three= range(3)\n",
        "\n"
      ],
      "execution_count": null,
      "outputs": []
    },
    {
      "cell_type": "code",
      "metadata": {
        "id": "KzcOKwxLq8NF",
        "colab": {
          "base_uri": "https://localhost:8080/",
          "height": 68
        },
        "outputId": "95dd2292-c91a-40fd-d6f3-af72654267ca"
      },
      "source": [
        "print(madan.one)\n",
        "print(madan.two)\n",
        "print(madan.three)"
      ],
      "execution_count": null,
      "outputs": [
        {
          "output_type": "stream",
          "text": [
            "0\n",
            "1\n",
            "2\n"
          ],
          "name": "stdout"
        }
      ]
    },
    {
      "cell_type": "code",
      "metadata": {
        "id": "d4FAB1uCq_Fk",
        "colab": {
          "base_uri": "https://localhost:8080/",
          "height": 34
        },
        "outputId": "5edc9588-85c9-4019-8762-377e0b23f318"
      },
      "source": [
        "one,two,three= range(3)\n",
        "print(one,two,three)"
      ],
      "execution_count": null,
      "outputs": [
        {
          "output_type": "stream",
          "text": [
            "0 1 2\n"
          ],
          "name": "stdout"
        }
      ]
    },
    {
      "cell_type": "markdown",
      "metadata": {
        "id": "Mat6rhyer_Gh"
      },
      "source": [
        "## 5. Return multiple values from function"
      ]
    },
    {
      "cell_type": "code",
      "metadata": {
        "id": "wlaHZQdPr5J_"
      },
      "source": [
        "def f():\n",
        "  return 1,2,3,4,5\n",
        "  "
      ],
      "execution_count": null,
      "outputs": []
    },
    {
      "cell_type": "code",
      "metadata": {
        "id": "o9GoO1XpsKfL"
      },
      "source": [
        "a,b,c,d,e=f()"
      ],
      "execution_count": null,
      "outputs": []
    },
    {
      "cell_type": "code",
      "metadata": {
        "id": "MnMsjbCcsPsr",
        "colab": {
          "base_uri": "https://localhost:8080/",
          "height": 34
        },
        "outputId": "5ab3da76-ae0c-4ae9-af84-c5c28630f572"
      },
      "source": [
        "print(a,b,c,d,e)"
      ],
      "execution_count": null,
      "outputs": [
        {
          "output_type": "stream",
          "text": [
            "1 2 3 4 5\n"
          ],
          "name": "stdout"
        }
      ]
    },
    {
      "cell_type": "markdown",
      "metadata": {
        "id": "6n0INVI_u4fJ"
      },
      "source": [
        "## 7. Check the memory usage of an object"
      ]
    },
    {
      "cell_type": "code",
      "metadata": {
        "id": "sibKPt8xtq4T",
        "colab": {
          "base_uri": "https://localhost:8080/",
          "height": 34
        },
        "outputId": "d56bb734-5dbc-4ec8-c832-2ad1406dff7a"
      },
      "source": [
        "import sys\n",
        "\n",
        "x=1\n",
        "print(sys.getsizeof(x))"
      ],
      "execution_count": null,
      "outputs": [
        {
          "output_type": "stream",
          "text": [
            "28\n"
          ],
          "name": "stdout"
        }
      ]
    },
    {
      "cell_type": "markdown",
      "metadata": {
        "id": "Ga1byPuovTIR"
      },
      "source": [
        "## 8. Checking if two words are anagrams \n",
        "\n",
        "Note: An anagram is a word or phrase that's formed by rearranging the letters of another word or phrase. "
      ]
    },
    {
      "cell_type": "code",
      "metadata": {
        "id": "L0ALB0nCvFi3"
      },
      "source": [
        "from collections import Counter\n",
        "\n",
        "def is_anagram(str1,str2):\n",
        "  return Counter(str1)==Counter(str2)"
      ],
      "execution_count": null,
      "outputs": []
    },
    {
      "cell_type": "code",
      "metadata": {
        "id": "LCuzg-2d0Hui",
        "colab": {
          "base_uri": "https://localhost:8080/",
          "height": 34
        },
        "outputId": "202edf71-efaf-46e5-95d9-143f10aa61ec"
      },
      "source": [
        "print(is_anagram('geek','eegk'))"
      ],
      "execution_count": null,
      "outputs": [
        {
          "output_type": "stream",
          "text": [
            "True\n"
          ],
          "name": "stdout"
        }
      ]
    },
    {
      "cell_type": "code",
      "metadata": {
        "id": "grIGUecM0Nhc"
      },
      "source": [
        "# or without having to import anything  \n",
        "def is_anagram(str1, str2):  \n",
        "    return sorted(str1) == sorted(str2) "
      ],
      "execution_count": null,
      "outputs": []
    },
    {
      "cell_type": "code",
      "metadata": {
        "id": "eNnnmg950XPt",
        "colab": {
          "base_uri": "https://localhost:8080/",
          "height": 34
        },
        "outputId": "b9ee71ee-a2ff-441b-b789-60765ddf07dd"
      },
      "source": [
        "print(is_anagram('geek', 'eegk'))     \n"
      ],
      "execution_count": null,
      "outputs": [
        {
          "output_type": "stream",
          "text": [
            "True\n"
          ],
          "name": "stdout"
        }
      ]
    },
    {
      "cell_type": "code",
      "metadata": {
        "id": "iloht9WBg080",
        "colab": {
          "base_uri": "https://localhost:8080/",
          "height": 34
        },
        "outputId": "1313431e-511d-4278-fa75-8f34647b5014"
      },
      "source": [
        "sorted(\"helo\")"
      ],
      "execution_count": null,
      "outputs": [
        {
          "output_type": "execute_result",
          "data": {
            "text/plain": [
              "['e', 'h', 'l', 'o']"
            ]
          },
          "metadata": {
            "tags": []
          },
          "execution_count": 19
        }
      ]
    },
    {
      "cell_type": "markdown",
      "metadata": {
        "id": "Of1qWCOG0fJZ"
      },
      "source": [
        "## 9. Measure the time elapsed to execute your code in python"
      ]
    },
    {
      "cell_type": "code",
      "metadata": {
        "id": "RhlHyF7n0Xoh"
      },
      "source": [
        "import time"
      ],
      "execution_count": null,
      "outputs": []
    },
    {
      "cell_type": "code",
      "metadata": {
        "id": "rtnrKyRh0qR-",
        "colab": {
          "base_uri": "https://localhost:8080/",
          "height": 51
        },
        "outputId": "aeb3de95-b996-41b6-97d7-67745e9b647f"
      },
      "source": [
        "starttime=time.time()\n",
        "\n",
        "#your code here\n",
        "\n",
        "print('Helo ima madan from nepla')\n",
        "\n",
        "endtime=time.time()\n",
        "totaltime=endtime-starttime\n",
        "print(totaltime)"
      ],
      "execution_count": null,
      "outputs": [
        {
          "output_type": "stream",
          "text": [
            "Helo ima madan from nepla\n",
            "0.0001232624053955078\n"
          ],
          "name": "stdout"
        }
      ]
    },
    {
      "cell_type": "markdown",
      "metadata": {
        "id": "sYPnetqM7ntx"
      },
      "source": [
        "## 10. Eliminate dublicate values"
      ]
    },
    {
      "cell_type": "code",
      "metadata": {
        "id": "3HWKyEwL7r5v",
        "colab": {
          "base_uri": "https://localhost:8080/",
          "height": 34
        },
        "outputId": "e6638482-0f52-4c2b-c96f-20199b08b7cf"
      },
      "source": [
        "list1=[1,2,3,4,4]\n",
        "set1=set(list1)\n",
        "#list1=list(set1)\n",
        "\n",
        "print(set1)\n",
        "# print(list1)"
      ],
      "execution_count": null,
      "outputs": [
        {
          "output_type": "stream",
          "text": [
            "{1, 2, 3, 4}\n"
          ],
          "name": "stdout"
        }
      ]
    },
    {
      "cell_type": "markdown",
      "metadata": {
        "id": "O_4RvbJq1Ec6"
      },
      "source": [
        "## 11. Get the difference between the two lists"
      ]
    },
    {
      "cell_type": "code",
      "metadata": {
        "id": "SWWgIC_t0uEU"
      },
      "source": [
        "list1=[1,2,3,4,5]\n",
        "list2=[5,6,7,8,9]\n",
        "\n",
        "\n",
        "set1=set(list1)\n",
        "set2=set(list2)\n",
        "\n",
        "# list3=list(set1.symmetric_difference(set2))\n",
        "# print(list3)"
      ],
      "execution_count": null,
      "outputs": []
    },
    {
      "cell_type": "markdown",
      "metadata": {
        "id": "LW1ks40RNi_K"
      },
      "source": [
        "## 12. How to efficiently compare two unordered lists"
      ]
    },
    {
      "cell_type": "code",
      "metadata": {
        "id": "yONX13qYH9dL",
        "colab": {
          "base_uri": "https://localhost:8080/"
        },
        "outputId": "7f9e375f-e5ec-4962-e5ae-757276586d98"
      },
      "source": [
        "from collections import Counter\n",
        "\n",
        "one = [33, 22, 11, 44, 55]\n",
        "two = [22, 11, 44, 55, 33]\n",
        "print(Counter(one))\n",
        "print(\"is two list are b equal\", Counter(one) == Counter(two))"
      ],
      "execution_count": null,
      "outputs": [
        {
          "output_type": "stream",
          "text": [
            "Counter({33: 1, 22: 1, 11: 1, 44: 1, 55: 1})\n",
            "is two list are b equal True\n"
          ],
          "name": "stdout"
        }
      ]
    },
    {
      "cell_type": "markdown",
      "metadata": {
        "id": "kUhwmfq6N0nY"
      },
      "source": [
        "## 13. Use enumerate\n",
        "\n",
        "\n",
        "\n"
      ]
    },
    {
      "cell_type": "code",
      "metadata": {
        "id": "8CXn7_uZNqZi",
        "colab": {
          "base_uri": "https://localhost:8080/",
          "height": 102
        },
        "outputId": "645592de-9074-4cfc-ca98-b1ee926794e5"
      },
      "source": [
        "listOne = [123, 345, 456, 23]\n",
        "print(\"Using enumerate\")\n",
        "for index, element in enumerate(listOne): \n",
        "    print(\"Index [\", index,\"]\", \"Value\", element)"
      ],
      "execution_count": null,
      "outputs": [
        {
          "output_type": "stream",
          "text": [
            "Using enumerate\n",
            "Index [ 0 ] Value 123\n",
            "Index [ 1 ] Value 345\n",
            "Index [ 2 ] Value 456\n",
            "Index [ 3 ] Value 23\n"
          ],
          "name": "stdout"
        }
      ]
    },
    {
      "cell_type": "markdown",
      "metadata": {
        "id": "UZ_D5GWPSuzt"
      },
      "source": [
        "## 14. e with number "
      ]
    },
    {
      "cell_type": "code",
      "metadata": {
        "id": "qPIvI1V5OIC3",
        "colab": {
          "base_uri": "https://localhost:8080/",
          "height": 51
        },
        "outputId": "afb295ce-73e7-48a9-fbd8-3563038cabd5"
      },
      "source": [
        "x=1.49e5\n",
        "x1=1.e1\n",
        "print(x)\n",
        "print(x1)"
      ],
      "execution_count": null,
      "outputs": [
        {
          "output_type": "stream",
          "text": [
            "149000.0\n",
            "10.0\n"
          ],
          "name": "stdout"
        }
      ]
    },
    {
      "cell_type": "markdown",
      "metadata": {
        "id": "4GWm5B5lV7AG"
      },
      "source": [
        "## 15. Concanate list"
      ]
    },
    {
      "cell_type": "code",
      "metadata": {
        "id": "rL-vG0pYVYIa",
        "colab": {
          "base_uri": "https://localhost:8080/",
          "height": 34
        },
        "outputId": "68338a38-30a7-45ff-9545-2d3f53052edb"
      },
      "source": [
        "l1=[1,2,3,4,5]\n",
        "l2=[5,6,7,8,9]\n",
        "\n",
        "l3=l1+l2\n",
        "print(l3)"
      ],
      "execution_count": null,
      "outputs": [
        {
          "output_type": "stream",
          "text": [
            "[1, 2, 3, 4, 5, 5, 6, 7, 8, 9]\n"
          ],
          "name": "stdout"
        }
      ]
    },
    {
      "cell_type": "code",
      "metadata": {
        "id": "k3Yr_lVXWNJJ",
        "colab": {
          "base_uri": "https://localhost:8080/",
          "height": 34
        },
        "outputId": "65cee4c4-e471-4213-8fe4-a47085d581e0"
      },
      "source": [
        "# or extend function\n",
        "\n",
        "# \n",
        "l1.extend(l2)\n",
        "\n",
        "print(l1)"
      ],
      "execution_count": null,
      "outputs": [
        {
          "output_type": "stream",
          "text": [
            "[1, 2, 3, 4, 5, 5, 6, 7, 8, 9]\n"
          ],
          "name": "stdout"
        }
      ]
    },
    {
      "cell_type": "markdown",
      "metadata": {
        "id": "SKFAdntaZLJR"
      },
      "source": [
        "Note:  l3=l1.extend(l2) this one is wrong (return None)\n",
        "\n",
        "* Because l1 lai l2 sanga extend garxa ra l1 ma rakhxa tara return None garxa."
      ]
    },
    {
      "cell_type": "markdown",
      "metadata": {
        "id": "aUcjhNJ2aFFj"
      },
      "source": [
        "## 16. Slicing"
      ]
    },
    {
      "cell_type": "markdown",
      "metadata": {
        "id": "LlCgsiOcahD-"
      },
      "source": [
        "`Note : always remain [start(start from zero, default position is zero):stop(exclude, default is ):step(defult is one)]`"
      ]
    },
    {
      "cell_type": "code",
      "metadata": {
        "id": "i-4g7-aGWYbb",
        "colab": {
          "base_uri": "https://localhost:8080/",
          "height": 51
        },
        "outputId": "ec43d14f-b62d-4901-8702-47739104f6aa"
      },
      "source": [
        "keyword = 'asdkjahajhfaesudjahfjka'\n",
        "\n",
        "print (keyword [3:] ) # []\n",
        "print(keyword [:3])"
      ],
      "execution_count": null,
      "outputs": [
        {
          "output_type": "stream",
          "text": [
            "kjahajhfaesudjahfjka\n",
            "asd\n"
          ],
          "name": "stdout"
        }
      ]
    },
    {
      "cell_type": "markdown",
      "metadata": {
        "id": "U0XtukrLw5S8"
      },
      "source": [
        "Note: Step 2 rakhyasi afu element lai ni ganxa hai."
      ]
    },
    {
      "cell_type": "code",
      "metadata": {
        "id": "ksKs4QARvorP",
        "colab": {
          "base_uri": "https://localhost:8080/",
          "height": 34
        },
        "outputId": "cc9d8026-e785-4206-dc02-dc44298ef75c"
      },
      "source": [
        "a=[1,2,3,4,5,6,7,8,9] \n",
        "print(a[::2]) "
      ],
      "execution_count": null,
      "outputs": [
        {
          "output_type": "stream",
          "text": [
            "[1, 3, 5, 7, 9]\n"
          ],
          "name": "stdout"
        }
      ]
    },
    {
      "cell_type": "markdown",
      "metadata": {
        "id": "aA7XLWnSn1Wx"
      },
      "source": [
        "## 17. OOP concept(MRO concept most)"
      ]
    },
    {
      "cell_type": "code",
      "metadata": {
        "id": "bDd-J7GDaRde"
      },
      "source": [
        "class A:\n",
        "    def do(self):\n",
        "        print('class a')"
      ],
      "execution_count": null,
      "outputs": []
    },
    {
      "cell_type": "code",
      "metadata": {
        "id": "Oh_MbtYYzo8K"
      },
      "source": [
        "class B(A):\n",
        "  pass"
      ],
      "execution_count": null,
      "outputs": []
    },
    {
      "cell_type": "code",
      "metadata": {
        "id": "rPIbZU730CXB"
      },
      "source": [
        "class C:\n",
        "  def do(self):\n",
        "    print('class C')"
      ],
      "execution_count": null,
      "outputs": []
    },
    {
      "cell_type": "code",
      "metadata": {
        "id": "FpC3zcnU0T6h"
      },
      "source": [
        "class D(B,C):\n",
        "  pass\n"
      ],
      "execution_count": null,
      "outputs": []
    },
    {
      "cell_type": "code",
      "metadata": {
        "id": "kvuRLDy90aJs"
      },
      "source": [
        "obj=D()"
      ],
      "execution_count": null,
      "outputs": []
    },
    {
      "cell_type": "code",
      "metadata": {
        "id": "dr1r_6wN6gl8"
      },
      "source": [
        "obj.do()"
      ],
      "execution_count": null,
      "outputs": []
    },
    {
      "cell_type": "code",
      "metadata": {
        "id": "HqdWtktV6PFN",
        "colab": {
          "base_uri": "https://localhost:8080/",
          "height": 54
        },
        "outputId": "2e76d210-422f-4e61-e2b5-ac03b05342a6"
      },
      "source": [
        "print(D.mro()) # yasri MRO order herna milxa"
      ],
      "execution_count": null,
      "outputs": [
        {
          "output_type": "stream",
          "text": [
            "[<class '__main__.D'>, <class '__main__.B'>, <class '__main__.A'>, <class '__main__.C'>, <class 'object'>]\n"
          ],
          "name": "stdout"
        }
      ]
    },
    {
      "cell_type": "markdown",
      "metadata": {
        "id": "HLtwPlda4zTJ"
      },
      "source": [
        "Method of resolution(MRO)"
      ]
    },
    {
      "cell_type": "markdown",
      "metadata": {
        "id": "AUtYWU8S_vYr"
      },
      "source": [
        "## 18. Loop in one line of code (one-liners)"
      ]
    },
    {
      "cell_type": "code",
      "metadata": {
        "id": "oWWVakWwcaCc",
        "colab": {
          "base_uri": "https://localhost:8080/",
          "height": 129
        },
        "outputId": "e46c8daf-450d-4b2b-9f0e-d5c1705150fa"
      },
      "source": [
        "# if for vanda agadi rakhni vaya else hunai parxa\n",
        "[i if i==2  for i in range(5)]"
      ],
      "execution_count": null,
      "outputs": [
        {
          "output_type": "error",
          "ename": "SyntaxError",
          "evalue": "ignored",
          "traceback": [
            "\u001b[0;36m  File \u001b[0;32m\"<ipython-input-12-cb39d76ba651>\"\u001b[0;36m, line \u001b[0;32m1\u001b[0m\n\u001b[0;31m    [i if i==2  for i in range(5)]\u001b[0m\n\u001b[0m                  ^\u001b[0m\n\u001b[0;31mSyntaxError\u001b[0m\u001b[0;31m:\u001b[0m invalid syntax\n"
          ]
        }
      ]
    },
    {
      "cell_type": "code",
      "metadata": {
        "id": "lucwHVWj_Phz",
        "colab": {
          "base_uri": "https://localhost:8080/",
          "height": 34
        },
        "outputId": "71209882-11fb-456a-ef87-3d6afc83899d"
      },
      "source": [
        "[i if i==2 else 0 for i in range(5)]"
      ],
      "execution_count": null,
      "outputs": [
        {
          "output_type": "execute_result",
          "data": {
            "text/plain": [
              "[0, 0, 2, 0, 0]"
            ]
          },
          "metadata": {
            "tags": []
          },
          "execution_count": 2
        }
      ]
    },
    {
      "cell_type": "code",
      "metadata": {
        "id": "1Rnpckjlb1gv",
        "colab": {
          "base_uri": "https://localhost:8080/",
          "height": 132
        },
        "outputId": "5acadf6a-4d2e-4359-d0cd-2876b6221489"
      },
      "source": [
        "# if for vanda paxadi rakhni vaya else rakhnu pardaina\n",
        "\n",
        "[i for i in range(5) if i==2 else 0]"
      ],
      "execution_count": null,
      "outputs": [
        {
          "output_type": "error",
          "ename": "SyntaxError",
          "evalue": "ignored",
          "traceback": [
            "\u001b[0;36m  File \u001b[0;32m\"<ipython-input-3-e2a649850c0d>\"\u001b[0;36m, line \u001b[0;32m1\u001b[0m\n\u001b[0;31m    [i for i in range(5) if i==2 else 0]\u001b[0m\n\u001b[0m                                    ^\u001b[0m\n\u001b[0;31mSyntaxError\u001b[0m\u001b[0;31m:\u001b[0m invalid syntax\n"
          ]
        }
      ]
    },
    {
      "cell_type": "code",
      "metadata": {
        "id": "CksMCYM_cR3U",
        "colab": {
          "base_uri": "https://localhost:8080/",
          "height": 34
        },
        "outputId": "de2361e7-13da-4163-dc10-98bcccab9f46"
      },
      "source": [
        "[i for i in range(5) if i==2]"
      ],
      "execution_count": null,
      "outputs": [
        {
          "output_type": "execute_result",
          "data": {
            "text/plain": [
              "[2]"
            ]
          },
          "metadata": {
            "tags": []
          },
          "execution_count": 6
        }
      ]
    },
    {
      "cell_type": "markdown",
      "metadata": {
        "id": "9HiuhcYjdTcD"
      },
      "source": [
        "## 19. Type in depth\n",
        "\n"
      ]
    },
    {
      "cell_type": "code",
      "metadata": {
        "id": "-rd8-byUcmQ8"
      },
      "source": [
        "l = [5,4,3]"
      ],
      "execution_count": null,
      "outputs": []
    },
    {
      "cell_type": "code",
      "metadata": {
        "id": "nZOwtpnslRYh",
        "colab": {
          "base_uri": "https://localhost:8080/",
          "height": 34
        },
        "outputId": "76d002aa-1aaa-4e90-b0ba-6fd81d36f23d"
      },
      "source": [
        "type(l)"
      ],
      "execution_count": null,
      "outputs": [
        {
          "output_type": "execute_result",
          "data": {
            "text/plain": [
              "list"
            ]
          },
          "metadata": {
            "tags": []
          },
          "execution_count": 2
        }
      ]
    },
    {
      "cell_type": "markdown",
      "metadata": {
        "id": "Pd1l7fm9lhhC"
      },
      "source": [
        "Inference : "
      ]
    },
    {
      "cell_type": "code",
      "metadata": {
        "id": "L7-6cJWBlTrd",
        "colab": {
          "base_uri": "https://localhost:8080/",
          "height": 34
        },
        "outputId": "3b1cf0d0-fdcc-4263-bde0-d0d0eacbdce5"
      },
      "source": [
        "type(list)"
      ],
      "execution_count": null,
      "outputs": [
        {
          "output_type": "execute_result",
          "data": {
            "text/plain": [
              "type"
            ]
          },
          "metadata": {
            "tags": []
          },
          "execution_count": 3
        }
      ]
    },
    {
      "cell_type": "code",
      "metadata": {
        "id": "_OGWvHyWlbFq",
        "colab": {
          "base_uri": "https://localhost:8080/",
          "height": 34
        },
        "outputId": "eacc13c8-5e4f-4924-8124-eff26653df4c"
      },
      "source": [
        "type(type)"
      ],
      "execution_count": null,
      "outputs": [
        {
          "output_type": "execute_result",
          "data": {
            "text/plain": [
              "type"
            ]
          },
          "metadata": {
            "tags": []
          },
          "execution_count": 4
        }
      ]
    },
    {
      "cell_type": "code",
      "metadata": {
        "id": "cpQFt1jxlnI0",
        "colab": {
          "base_uri": "https://localhost:8080/",
          "height": 34
        },
        "outputId": "10689aba-2c88-4105-89af-f6e6b083eb0a"
      },
      "source": [
        "def f():\n",
        "  pass\n",
        "\n",
        "type(f)"
      ],
      "execution_count": null,
      "outputs": [
        {
          "output_type": "execute_result",
          "data": {
            "text/plain": [
              "function"
            ]
          },
          "metadata": {
            "tags": []
          },
          "execution_count": 5
        }
      ]
    },
    {
      "cell_type": "code",
      "metadata": {
        "id": "bI8fGKyMl5WQ",
        "colab": {
          "base_uri": "https://localhost:8080/",
          "height": 34
        },
        "outputId": "ac047db2-a9f4-4a6b-9343-9d8b078f00bf"
      },
      "source": [
        "class C:\n",
        "  pass\n",
        "type(C)"
      ],
      "execution_count": null,
      "outputs": [
        {
          "output_type": "execute_result",
          "data": {
            "text/plain": [
              "type"
            ]
          },
          "metadata": {
            "tags": []
          },
          "execution_count": 6
        }
      ]
    },
    {
      "cell_type": "code",
      "metadata": {
        "id": "3Ptb2vcWl-WM",
        "colab": {
          "base_uri": "https://localhost:8080/",
          "height": 197
        },
        "outputId": "54ff78f8-6976-4fe3-dfc9-87314784ccb2"
      },
      "source": [
        "t = type()"
      ],
      "execution_count": null,
      "outputs": [
        {
          "output_type": "error",
          "ename": "TypeError",
          "evalue": "ignored",
          "traceback": [
            "\u001b[0;31m---------------------------------------------------------------------------\u001b[0m",
            "\u001b[0;31mTypeError\u001b[0m                                 Traceback (most recent call last)",
            "\u001b[0;32m<ipython-input-7-d14e367f09a1>\u001b[0m in \u001b[0;36m<module>\u001b[0;34m()\u001b[0m\n\u001b[0;32m----> 1\u001b[0;31m \u001b[0mt\u001b[0m \u001b[0;34m=\u001b[0m \u001b[0mtype\u001b[0m\u001b[0;34m(\u001b[0m\u001b[0;34m)\u001b[0m\u001b[0;34m\u001b[0m\u001b[0;34m\u001b[0m\u001b[0m\n\u001b[0m",
            "\u001b[0;31mTypeError\u001b[0m: type() takes 1 or 3 arguments"
          ]
        }
      ]
    },
    {
      "cell_type": "markdown",
      "metadata": {
        "id": "lHp6WaI1M3Qe"
      },
      "source": [
        "## 20. Zip(loop more iterator at a time)\n"
      ]
    },
    {
      "cell_type": "code",
      "metadata": {
        "id": "VVnTMPDkNF2G",
        "colab": {
          "base_uri": "https://localhost:8080/",
          "height": 85
        },
        "outputId": "dbe9d5dc-f176-4e04-908f-198d67d46a0b"
      },
      "source": [
        "a = [1,2,3,4]\n",
        "b = [5,6,7,8]\n",
        "\n",
        "for i,j in zip(a,b):\n",
        "  print(i,j)"
      ],
      "execution_count": null,
      "outputs": [
        {
          "output_type": "stream",
          "text": [
            "1 5\n",
            "2 6\n",
            "3 7\n",
            "4 8\n"
          ],
          "name": "stdout"
        }
      ]
    },
    {
      "cell_type": "markdown",
      "metadata": {
        "id": "9GbJ0RwaSCSa"
      },
      "source": [
        "## 21. Map\n",
        "\n",
        "\n",
        "\n",
        "```\n",
        "map(fun, iter)\n",
        "\n",
        "fun : It is a function to which map passes each element of given iterable.\n",
        "iter : It is a iterable which is to be mapped.\n",
        "\n",
        "```\n",
        "\n"
      ]
    },
    {
      "cell_type": "code",
      "metadata": {
        "id": "e1gRtXkCaVge",
        "colab": {
          "base_uri": "https://localhost:8080/",
          "height": 34
        },
        "outputId": "143b15d8-c35b-4d9f-be3f-7c6e569980f4"
      },
      "source": [
        "import operator \n",
        "\n",
        "\n",
        "# Defining lists \n",
        "L1 = [1, 2, 3] \n",
        "L2 = [2, 3, 4] \n",
        "a, b, c = map(operator.mul, L1, L2) \n",
        "print(a,b,c)"
      ],
      "execution_count": null,
      "outputs": [
        {
          "output_type": "stream",
          "text": [
            "2 6 12\n"
          ],
          "name": "stdout"
        }
      ]
    },
    {
      "cell_type": "markdown",
      "metadata": {
        "id": "d2i0TGbnSvjC"
      },
      "source": [
        "## 22.Iterator\n",
        "\n",
        "Play with iterator\n",
        "\n",
        "Mathematics operations"
      ]
    },
    {
      "cell_type": "code",
      "metadata": {
        "id": "QTbBuRUNNTmz"
      },
      "source": [
        "import itertools"
      ],
      "execution_count": null,
      "outputs": []
    },
    {
      "cell_type": "code",
      "metadata": {
        "id": "_NGtzdFwuVFe"
      },
      "source": [
        "help(itertools)"
      ],
      "execution_count": null,
      "outputs": []
    },
    {
      "cell_type": "code",
      "metadata": {
        "id": "XYhWmU6ChVi4",
        "colab": {
          "base_uri": "https://localhost:8080/"
        },
        "outputId": "610f34eb-e05b-46cb-9807-a4a295c62ee5"
      },
      "source": [
        "count = 0\n",
        "\n",
        "for i in itertools.cycle('AB'):\n",
        "  if count > 7:\n",
        "        break\n",
        "  else:\n",
        "      print(i, end = \" \")\n",
        "      count += 1"
      ],
      "execution_count": null,
      "outputs": [
        {
          "output_type": "stream",
          "text": [
            "A B A B A B A B "
          ],
          "name": "stdout"
        }
      ]
    },
    {
      "cell_type": "code",
      "metadata": {
        "colab": {
          "base_uri": "https://localhost:8080/"
        },
        "id": "oy9vATkEt0S4",
        "outputId": "89ddf53b-9118-41f7-db53-5c850d34348d"
      },
      "source": [
        "for i in itertools.count(5, 5):\n",
        "    if i == 35:\n",
        "        break\n",
        "    else:\n",
        "        print(i, end =\" \")"
      ],
      "execution_count": null,
      "outputs": [
        {
          "output_type": "stream",
          "text": [
            "5 10 15 20 25 30 "
          ],
          "name": "stdout"
        }
      ]
    },
    {
      "cell_type": "code",
      "metadata": {
        "id": "triYcOtFflD8"
      },
      "source": [],
      "execution_count": null,
      "outputs": []
    }
  ]
}