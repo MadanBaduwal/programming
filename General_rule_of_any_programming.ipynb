{
  "nbformat": 4,
  "nbformat_minor": 0,
  "metadata": {
    "colab": {
      "provenance": [],
      "collapsed_sections": [],
      "authorship_tag": "ABX9TyOakDdsBFaq9EA6i5uUN67j",
      "include_colab_link": true
    },
    "kernelspec": {
      "name": "python3",
      "display_name": "Python 3"
    }
  },
  "cells": [
    {
      "cell_type": "markdown",
      "metadata": {
        "id": "view-in-github",
        "colab_type": "text"
      },
      "source": [
        "<a href=\"https://colab.research.google.com/github/MadanBaduwal/programming/blob/main/General_rule_of_any_programming.ipynb\" target=\"_parent\"><img src=\"https://colab.research.google.com/assets/colab-badge.svg\" alt=\"Open In Colab\"/></a>"
      ]
    },
    {
      "cell_type": "markdown",
      "metadata": {
        "id": "HJOeUJoKyokf"
      },
      "source": [
        "# Everythin in programming is :\n",
        "\n",
        "---\n",
        "Everything is bit or byte so think like that\n",
        "\n",
        "---\n",
        "Data structure (objects)\n",
        "\n",
        "variables\n",
        "* int\n",
        "* float\n",
        "* string\n",
        "* array\n",
        "* list\n",
        "* Dictionary\n",
        "* set\n",
        "---\n",
        "Loop and condition.\n",
        "* for\n",
        "* while\n",
        "* if \n",
        "---\n",
        "Package , modeule, class or function , method, object and heritance\n",
        "\n",
        "* package(folder)\n",
        "* module(file)\n",
        "* class or function \n",
        "* method (method ma k pass garna milxa int,flot,string,object,list,dictionary,set...)\n",
        "* object\n",
        "* inheritance\n",
        "\n",
        "Note : we can directly acess hardware from high level language.\n",
        "Compiler/interpreter helps to convert high level language into Machine language (010110..) then cpu give instructions to work hardware components by sending electric signals.\n",
        "(Note: os mangane resources (cpu/memory/io devices) for many applications)\n"
      ]
    },
    {
      "cell_type": "markdown",
      "metadata": {
        "id": "gYnsbJvgCfkr"
      },
      "source": [
        "# **Everything is programming is inside in folder and file.**"
      ]
    },
    {
      "cell_type": "markdown",
      "metadata": {
        "id": "csXRUwF8Ckcd"
      },
      "source": [
        "#  **Computer work from left to right, So left to right process in programming things also.**"
      ]
    },
    {
      "cell_type": "markdown",
      "metadata": {
        "id": "4MD_k0-ngLIn"
      },
      "source": [
        "# **1.Any Programming language project structure**\n",
        "\n",
        "```\n",
        "├── Package               <- Folder Contain Many programming files(modules)\n",
        "    ├── Module            <- File (i.e  .h(in c and c++),.py,.js ,.java,php...)\n",
        "       ├── import from another package and module < -#include ... in c and c++, import in python and java\n",
        "       ├── Module attribute\n",
        "       ├── Class         \n",
        "       │   ├── Class attribute     \n",
        "       │   ├── Method      \n",
        "       │         ├── Method attribute \n",
        "       ├── Function\n",
        "           ├── Function attribute\n",
        "       ├── Generator\n",
        "           ├── Generator attribute\n",
        "\n",
        "```\n",
        "\n"
      ]
    },
    {
      "cell_type": "markdown",
      "source": [
        "# **Main function in module from where program start** \n",
        "\n",
        "```\n",
        "if __name__ == \"__main__\":\n",
        "    # start from here\n",
        "```\n",
        "\n",
        "```\n",
        "// in C and C++ \n",
        "\n",
        "int main() or void main() {\n",
        "  \n",
        "    // start from here\n",
        "}\n",
        "\n",
        "```\n",
        "\n",
        "```\n",
        "// in java\n",
        "\n",
        "class Class_name {\n",
        "    public static void main(String[] args)\n",
        "    {\n",
        "  \n",
        "        // Start from here\n",
        "    }\n",
        "}\n",
        "```\n",
        "\n"
      ],
      "metadata": {
        "id": "J2djbazUVFK5"
      }
    },
    {
      "cell_type": "markdown",
      "metadata": {
        "id": "_MQnJtCa8vjg"
      },
      "source": [
        "## **Heart of programming**"
      ]
    },
    {
      "cell_type": "markdown",
      "metadata": {
        "id": "kxN5H5vWggS0"
      },
      "source": [
        "### Print everything \n"
      ]
    },
    {
      "cell_type": "markdown",
      "metadata": {
        "id": "S1TvwsYnhPT_"
      },
      "source": [
        "```\n",
        "module,module attribute,class,varible,function,object,iterator.....\n",
        "print(module,module attribute,varible,function,object,iterator.....\n",
        ")(try to look what is this by printing this)\n",
        "```\n",
        "\n"
      ]
    },
    {
      "cell_type": "code",
      "metadata": {
        "id": "S7S_6CFUg1tT"
      },
      "source": [
        "a = \"hello\""
      ],
      "execution_count": null,
      "outputs": []
    },
    {
      "cell_type": "code",
      "metadata": {
        "colab": {
          "base_uri": "https://localhost:8080/"
        },
        "id": "_9UlvdSog0Ii",
        "outputId": "35b11c02-901e-4283-c8b8-ca0ec116dce8"
      },
      "source": [
        "print(a )"
      ],
      "execution_count": null,
      "outputs": [
        {
          "output_type": "stream",
          "text": [
            "hello\n"
          ],
          "name": "stdout"
        }
      ]
    },
    {
      "cell_type": "markdown",
      "metadata": {
        "id": "8we2xgqDgvyb"
      },
      "source": [
        "### Look documentation of module/class/method/function (everything)\n"
      ]
    },
    {
      "cell_type": "markdown",
      "metadata": {
        "id": "KVCU7btqiHpI"
      },
      "source": [
        "Class ko doc,method ko doc, function ko doc lekhinxa  first:\n",
        "```\n",
        "class class_name:\n",
        "   \"\"\" doc string of class\"\n",
        "   def method_name():\n",
        "       \"doc string of method\"\n",
        "\n",
        "       ...\n",
        "```\n",
        "\n",
        "We need to understand docmuntation of class , method and function.\n",
        "\n",
        "```\n",
        "print(class.__doc__) or however over function,module,variable,....\n",
        "\n",
        "print(function,classes....__doc__)\n",
        "\n",
        "\n",
        "```\n",
        "\n"
      ]
    },
    {
      "cell_type": "markdown",
      "metadata": {
        "id": "CUnSVHr5vqmn"
      },
      "source": [
        "#### Look documentation  with the help of ```help```"
      ]
    },
    {
      "cell_type": "markdown",
      "metadata": {
        "id": "YPXUFPCiu9-D"
      },
      "source": [
        "```\n",
        " \n",
        "help(object) # he python help function is used to display the documentation of modules, functions, classes, keywords etc.\n",
        "```\n",
        "\n"
      ]
    },
    {
      "cell_type": "markdown",
      "metadata": {
        "id": "5pjp3YXOurkN"
      },
      "source": [
        "### Look attributes of class/method/function (everything)"
      ]
    },
    {
      "cell_type": "markdown",
      "metadata": {
        "id": "-w-wmM5gunwL"
      },
      "source": [
        "```\n",
        "├── Module            <- File (i.e  .h(in c and c++),.py,.js ,.java,php...)\n",
        "       ├── Module attribute\n",
        "       ├── Class         \n",
        "       │   ├── Class attribute     \n",
        "       │        ├── Method      \n",
        "       │            ├── Method attribute \n",
        "       ├── Function\n",
        "           ├── Function attribute\n",
        "       ├── Generator\n",
        "           ├── Generator attribute\n",
        "```\n",
        "\n",
        "So module,class,function ko bhitra k k x hernu paryo nita so,\n",
        "```\n",
        "print(dir(object)) # dir() is a powerful inbuilt function in Python3, which returns list of the attributes(attributes means all things inside function or class or methods) and methods(function nai vanam , class bhitra vayako le method vaneko ho) of any object.\n",
        "```\n",
        "\n"
      ]
    },
    {
      "cell_type": "markdown",
      "metadata": {
        "id": "fOyVXNHMvjxc"
      },
      "source": [
        "### Type\n"
      ]
    },
    {
      "cell_type": "markdown",
      "metadata": {
        "id": "-K5Q-tvcAja_"
      },
      "source": [
        "The type() function returns the type of the specified object\n",
        "\n",
        "\n",
        "```\n",
        " type(object,function,class,int,float..)>think how can we do with this type\n",
        "```\n",
        "\n"
      ]
    },
    {
      "cell_type": "markdown",
      "metadata": {
        "id": "ReczhU7MzpG1"
      },
      "source": [
        "## **A. After creating project structure we have capacity to access them**\n",
        "\n",
        "#### Step 1 : call(or load) file(function,methods)/pass paremeters for file\n",
        "#### Step 2 : file process parameters \n",
        "#### Step 3 : File return or do somethings(like function do)\n",
        "\n",
        "\n",
        "```\n",
        "#include <file.h> # in c and c++\n",
        "from package import module # python\n",
        "....\n",
        "\n",
        "\n",
        "# Here is sample of python only in another other there may be different\n",
        "object = file(os,cv2,tf,pandas,numpy).classname(default parameters)\n",
        "class_attribute = object.class_attribute\n",
        "return_things = object.methodname(parameters)\n",
        "\n",
        "return_things = file(os,cv2,tf,pandas,numpy). function(parameters)\n",
        "or you can create an object of function also\n",
        "function_object = file(os,cv2,tf,pandas,numpy). function\n",
        "function_attribute = function_object.function_attribute\n",
        "\n",
        "```\n"
      ]
    },
    {
      "cell_type": "code",
      "metadata": {
        "id": "jO6yzBdw6H--"
      },
      "source": [
        "import numpy as np"
      ],
      "execution_count": null,
      "outputs": []
    },
    {
      "cell_type": "markdown",
      "metadata": {
        "id": "D4axPSVCut-T"
      },
      "source": [
        "## **B. Pass parameter to file**\n",
        "\n",
        "```\n",
        "file1   parameter1(parameter can be file),parameter2,...parametern\n",
        "\n",
        "```\n",
        "* We pass the parameters for file \n",
        "\n",
        "* Then this file do some activities according to parameters.\n",
        "\n",
        "Example: \n",
        "\n",
        "\n",
        "\n",
        "```\n",
        "sudo install python3\n",
        "python -m main\n",
        "pip install tensorflow\n",
        "git commit -m 'message'\n",
        "python -m main params1 params2.... #store parameters in sys variable are for main file\n",
        "\n",
        "```\n",
        "\n",
        "### `sudo,python,pip,git ...are file we pass parameters for work them.`\n",
        "\n",
        "* So we  need to know about  what package do, what parameters it take, order of parameters\n",
        "\n",
        "\n",
        "\n",
        "\n"
      ]
    },
    {
      "cell_type": "markdown",
      "metadata": {
        "id": "ytStFFSRIlpB"
      },
      "source": [
        "# 2.Tips and trick of any programming language **Most thing while doing coading**"
      ]
    },
    {
      "cell_type": "markdown",
      "metadata": {
        "id": "vZ5j7zbwyuVP"
      },
      "source": [
        "## **Trick : 1 :Every thing is object(or module) base**\n",
        "\n",
        "Everything in python is an object :\n",
        "\n",
        " So Key concept about python is **CRUD**\n",
        "\n",
        "\n",
        "C : Create\n",
        "* Create variable,datastructure,function,object...\n",
        "\n",
        "R : Read \n",
        "* Read data(value) from variable,datastructure,function,object...\n",
        "\n",
        "U : Update\n",
        "\n",
        "* Update data(value) in variable,datastructure,function,object...\n",
        "\n",
        "D : Delete\n",
        "\n",
        "* Delete variable,datastructure,function,object..."
      ]
    },
    {
      "cell_type": "markdown",
      "metadata": {
        "id": "IpMEjj6VCUTQ"
      },
      "source": [
        "## **Trick: 3 : Look at predefine objects,modules,attributes**"
      ]
    },
    {
      "cell_type": "code",
      "metadata": {
        "id": "8xBEOcGLCfhV",
        "colab": {
          "base_uri": "https://localhost:8080/",
          "height": 54
        },
        "outputId": "3f5d5619-23fc-41d8-e457-4dc97ed0c012"
      },
      "source": [
        "print(globals()) # name dictionary main value"
      ],
      "execution_count": null,
      "outputs": [
        {
          "output_type": "stream",
          "text": [
            "{'__name__': '__main__', '__doc__': 'Automatically created module for IPython interactive environment', '__package__': None, '__loader__': None, '__spec__': None, '__builtin__': <module 'builtins' (built-in)>, '__builtins__': <module 'builtins' (built-in)>, '_ih': ['', 'globals()', 'print(globals()) # '], '_oh': {1: {...}}, '_dh': ['/content'], '_sh': <module 'IPython.core.shadowns' from '/usr/local/lib/python3.6/dist-packages/IPython/core/shadowns.py'>, 'In': ['', 'globals()', 'print(globals()) # '], 'Out': {1: {...}}, 'get_ipython': <bound method InteractiveShell.get_ipython of <google.colab._shell.Shell object at 0x7ff3685fed68>>, 'exit': <IPython.core.autocall.ZMQExitAutocall object at 0x7ff3683b6dd8>, 'quit': <IPython.core.autocall.ZMQExitAutocall object at 0x7ff3683b6dd8>, '_': {...}, '__': '', '___': '', '_i': 'globals()', '_ii': '', '_iii': '', '_i1': 'globals()', '_1': {...}, '_i2': 'print(globals()) # '}\n"
          ],
          "name": "stdout"
        }
      ]
    },
    {
      "cell_type": "code",
      "metadata": {
        "id": "nRGigFfSKlvK",
        "colab": {
          "base_uri": "https://localhost:8080/",
          "height": 85
        },
        "outputId": "d564e397-b862-4dfc-a0f8-bae6b8b6cf2a"
      },
      "source": [
        "print(globals.__doc__)"
      ],
      "execution_count": null,
      "outputs": [
        {
          "output_type": "stream",
          "text": [
            "Return the dictionary containing the current scope's global variables.\n",
            "\n",
            "NOTE: Updates to this dictionary *will* affect name lookups in the current\n",
            "global scope and vice-versa.\n"
          ],
          "name": "stdout"
        }
      ]
    },
    {
      "cell_type": "code",
      "metadata": {
        "colab": {
          "base_uri": "https://localhost:8080/"
        },
        "id": "2hTN0RvfoUrT",
        "outputId": "b38e5d12-7a28-48cc-8fc5-741c11f92ff8"
      },
      "source": [
        "globals.__dir__"
      ],
      "execution_count": null,
      "outputs": [
        {
          "output_type": "execute_result",
          "data": {
            "text/plain": [
              "<function builtin_function_or_method.__dir__>"
            ]
          },
          "metadata": {
            "tags": []
          },
          "execution_count": 15
        }
      ]
    },
    {
      "cell_type": "code",
      "metadata": {
        "id": "7ujjVTuxKuTE",
        "colab": {
          "base_uri": "https://localhost:8080/",
          "height": 54
        },
        "outputId": "30a5fa8a-cfcd-402a-80ef-93aaa7261261"
      },
      "source": [
        "print(dir(globals))"
      ],
      "execution_count": null,
      "outputs": [
        {
          "output_type": "stream",
          "text": [
            "['__call__', '__class__', '__delattr__', '__dir__', '__doc__', '__eq__', '__format__', '__ge__', '__getattribute__', '__gt__', '__hash__', '__init__', '__init_subclass__', '__le__', '__lt__', '__module__', '__name__', '__ne__', '__new__', '__qualname__', '__reduce__', '__reduce_ex__', '__repr__', '__self__', '__setattr__', '__sizeof__', '__str__', '__subclasshook__', '__text_signature__']\n"
          ],
          "name": "stdout"
        }
      ]
    },
    {
      "cell_type": "code",
      "metadata": {
        "id": "LX3w3honK8hg",
        "colab": {
          "base_uri": "https://localhost:8080/",
          "height": 170
        },
        "outputId": "d7081724-f151-4b31-ca0f-184051ca72c7"
      },
      "source": [
        "print(help(globals))"
      ],
      "execution_count": null,
      "outputs": [
        {
          "output_type": "stream",
          "text": [
            "Help on built-in function globals in module builtins:\n",
            "\n",
            "globals()\n",
            "    Return the dictionary containing the current scope's global variables.\n",
            "    \n",
            "    NOTE: Updates to this dictionary *will* affect name lookups in the current\n",
            "    global scope and vice-versa.\n",
            "\n",
            "None\n"
          ],
          "name": "stdout"
        }
      ]
    },
    {
      "cell_type": "code",
      "metadata": {
        "id": "Jzc62S4OChpJ",
        "colab": {
          "base_uri": "https://localhost:8080/",
          "height": 68
        },
        "outputId": "c6bdee91-e9ee-4b85-aae9-1c5df27ebdb9"
      },
      "source": [
        "print(__builtins__.__doc__)"
      ],
      "execution_count": null,
      "outputs": [
        {
          "output_type": "stream",
          "text": [
            "Built-in functions, exceptions, and other objects.\n",
            "\n",
            "Noteworthy: None is the `nil' object; Ellipsis represents `...' in slices.\n"
          ],
          "name": "stdout"
        }
      ]
    },
    {
      "cell_type": "markdown",
      "metadata": {
        "id": "8m8KeOto06Iu"
      },
      "source": [
        "## **Trick: 5 : Well familar with error**"
      ]
    },
    {
      "cell_type": "markdown",
      "metadata": {
        "id": "PgHfC3pj1COQ"
      },
      "source": [
        "### We should know every standard term\n"
      ]
    },
    {
      "cell_type": "markdown",
      "metadata": {
        "id": "kOgH8EakwKTr"
      },
      "source": [
        "### syntax error "
      ]
    },
    {
      "cell_type": "code",
      "metadata": {
        "colab": {
          "base_uri": "https://localhost:8080/",
          "height": 129
        },
        "id": "ALUYrVXgwMF9",
        "outputId": "d10b021e-d9c5-410a-ad0e-134cb76b1beb"
      },
      "source": [
        "print("
      ],
      "execution_count": null,
      "outputs": [
        {
          "output_type": "error",
          "ename": "SyntaxError",
          "evalue": "ignored",
          "traceback": [
            "\u001b[0;36m  File \u001b[0;32m\"<ipython-input-2-424fbb3a34c5>\"\u001b[0;36m, line \u001b[0;32m1\u001b[0m\n\u001b[0;31m    print(\u001b[0m\n\u001b[0m          ^\u001b[0m\n\u001b[0;31mSyntaxError\u001b[0m\u001b[0;31m:\u001b[0m unexpected EOF while parsing\n"
          ]
        }
      ]
    },
    {
      "cell_type": "markdown",
      "metadata": {
        "id": "nJOxEhrawW-b"
      },
      "source": [
        "### IndexError (is thrown when trying to access an item at an invalid index.)\n"
      ]
    },
    {
      "cell_type": "code",
      "metadata": {
        "colab": {
          "base_uri": "https://localhost:8080/",
          "height": 180
        },
        "id": "0QSAyU5lwYAQ",
        "outputId": "6fc53b73-8f01-4a94-9c50-0ec52be59f56"
      },
      "source": [
        "a = []\n",
        "print(a[0])"
      ],
      "execution_count": null,
      "outputs": [
        {
          "output_type": "error",
          "ename": "IndexError",
          "evalue": "ignored",
          "traceback": [
            "\u001b[0;31m---------------------------------------------------------------------------\u001b[0m",
            "\u001b[0;31mIndexError\u001b[0m                                Traceback (most recent call last)",
            "\u001b[0;32m<ipython-input-3-53eb24ac9568>\u001b[0m in \u001b[0;36m<module>\u001b[0;34m()\u001b[0m\n\u001b[1;32m      1\u001b[0m \u001b[0ma\u001b[0m \u001b[0;34m=\u001b[0m \u001b[0;34m[\u001b[0m\u001b[0;34m]\u001b[0m\u001b[0;34m\u001b[0m\u001b[0;34m\u001b[0m\u001b[0m\n\u001b[0;32m----> 2\u001b[0;31m \u001b[0mprint\u001b[0m\u001b[0;34m(\u001b[0m\u001b[0ma\u001b[0m\u001b[0;34m[\u001b[0m\u001b[0;36m0\u001b[0m\u001b[0;34m]\u001b[0m\u001b[0;34m)\u001b[0m\u001b[0;34m\u001b[0m\u001b[0;34m\u001b[0m\u001b[0m\n\u001b[0m",
            "\u001b[0;31mIndexError\u001b[0m: list index out of range"
          ]
        }
      ]
    },
    {
      "cell_type": "markdown",
      "metadata": {
        "id": "OtRAxzbyw1nv"
      },
      "source": [
        "### ModuleNotFoundError( is thrown when a module could not be found.)\n"
      ]
    },
    {
      "cell_type": "code",
      "metadata": {
        "colab": {
          "base_uri": "https://localhost:8080/",
          "height": 299
        },
        "id": "CjcC1H0vw2kP",
        "outputId": "4d9d65d7-915d-4936-e34c-806df0802c9d"
      },
      "source": [
        "import hi"
      ],
      "execution_count": null,
      "outputs": [
        {
          "output_type": "error",
          "ename": "ModuleNotFoundError",
          "evalue": "ignored",
          "traceback": [
            "\u001b[0;31m---------------------------------------------------------------------------\u001b[0m",
            "\u001b[0;31mModuleNotFoundError\u001b[0m                       Traceback (most recent call last)",
            "\u001b[0;32m<ipython-input-4-746bfab23d87>\u001b[0m in \u001b[0;36m<module>\u001b[0;34m()\u001b[0m\n\u001b[0;32m----> 1\u001b[0;31m \u001b[0;32mimport\u001b[0m \u001b[0mhi\u001b[0m\u001b[0;34m\u001b[0m\u001b[0;34m\u001b[0m\u001b[0m\n\u001b[0m",
            "\u001b[0;31mModuleNotFoundError\u001b[0m: No module named 'hi'",
            "",
            "\u001b[0;31m---------------------------------------------------------------------------\u001b[0;32m\nNOTE: If your import is failing due to a missing package, you can\nmanually install dependencies using either !pip or !apt.\n\nTo view examples of installing some common dependencies, click the\n\"Open Examples\" button below.\n\u001b[0;31m---------------------------------------------------------------------------\u001b[0m\n"
          ]
        }
      ]
    },
    {
      "cell_type": "markdown",
      "metadata": {
        "id": "a8els7DSxBid"
      },
      "source": [
        "### KeyError (is thrown when a key is not found in dictionary/list...)\n"
      ]
    },
    {
      "cell_type": "code",
      "metadata": {
        "colab": {
          "base_uri": "https://localhost:8080/",
          "height": 180
        },
        "id": "F3nJR8grxClc",
        "outputId": "41d753ac-e49d-48ca-eeba-89f22b172055"
      },
      "source": [
        "d = {}\n",
        "print(d[\"h\"])"
      ],
      "execution_count": null,
      "outputs": [
        {
          "output_type": "error",
          "ename": "KeyError",
          "evalue": "ignored",
          "traceback": [
            "\u001b[0;31m---------------------------------------------------------------------------\u001b[0m",
            "\u001b[0;31mKeyError\u001b[0m                                  Traceback (most recent call last)",
            "\u001b[0;32m<ipython-input-5-5afa52b1aa1a>\u001b[0m in \u001b[0;36m<module>\u001b[0;34m()\u001b[0m\n\u001b[1;32m      1\u001b[0m \u001b[0md\u001b[0m \u001b[0;34m=\u001b[0m \u001b[0;34m{\u001b[0m\u001b[0;34m}\u001b[0m\u001b[0;34m\u001b[0m\u001b[0;34m\u001b[0m\u001b[0m\n\u001b[0;32m----> 2\u001b[0;31m \u001b[0mprint\u001b[0m\u001b[0;34m(\u001b[0m\u001b[0md\u001b[0m\u001b[0;34m[\u001b[0m\u001b[0;34m\"h\"\u001b[0m\u001b[0;34m]\u001b[0m\u001b[0;34m)\u001b[0m\u001b[0;34m\u001b[0m\u001b[0;34m\u001b[0m\u001b[0m\n\u001b[0m",
            "\u001b[0;31mKeyError\u001b[0m: 'h'"
          ]
        }
      ]
    },
    {
      "cell_type": "markdown",
      "metadata": {
        "id": "k63djS9pyYXl"
      },
      "source": [
        "### TypeError(str,int,object,float...)(is thrown when an operation or function is applied to an object of an inappropriate type.)"
      ]
    },
    {
      "cell_type": "code",
      "metadata": {
        "colab": {
          "base_uri": "https://localhost:8080/",
          "height": 197
        },
        "id": "GqI3QYiPyZOr",
        "outputId": "1cab8255-0733-41ef-a28b-186f047f5855"
      },
      "source": [
        "a = \"hi\"\n",
        "b = 3\n",
        "\n",
        "print(a+b)"
      ],
      "execution_count": null,
      "outputs": [
        {
          "output_type": "error",
          "ename": "TypeError",
          "evalue": "ignored",
          "traceback": [
            "\u001b[0;31m---------------------------------------------------------------------------\u001b[0m",
            "\u001b[0;31mTypeError\u001b[0m                                 Traceback (most recent call last)",
            "\u001b[0;32m<ipython-input-10-6254e290f82d>\u001b[0m in \u001b[0;36m<module>\u001b[0;34m()\u001b[0m\n\u001b[1;32m      2\u001b[0m \u001b[0mb\u001b[0m \u001b[0;34m=\u001b[0m \u001b[0;36m3\u001b[0m\u001b[0;34m\u001b[0m\u001b[0;34m\u001b[0m\u001b[0m\n\u001b[1;32m      3\u001b[0m \u001b[0;34m\u001b[0m\u001b[0m\n\u001b[0;32m----> 4\u001b[0;31m \u001b[0mprint\u001b[0m\u001b[0;34m(\u001b[0m\u001b[0ma\u001b[0m\u001b[0;34m+\u001b[0m\u001b[0mb\u001b[0m\u001b[0;34m)\u001b[0m\u001b[0;34m\u001b[0m\u001b[0;34m\u001b[0m\u001b[0m\n\u001b[0m",
            "\u001b[0;31mTypeError\u001b[0m: must be str, not int"
          ]
        }
      ]
    },
    {
      "cell_type": "markdown",
      "metadata": {
        "id": "ncIsluZsyqLT"
      },
      "source": [
        "### ValueError (is thrown when a function's argument is of an inappropriate type.)"
      ]
    },
    {
      "cell_type": "code",
      "metadata": {
        "colab": {
          "base_uri": "https://localhost:8080/",
          "height": 163
        },
        "id": "d92Nbr-4yr9W",
        "outputId": "5da82b32-a9d7-496f-b1cc-1458ffcd3365"
      },
      "source": [
        "int(\"hi\")"
      ],
      "execution_count": null,
      "outputs": [
        {
          "output_type": "error",
          "ename": "ValueError",
          "evalue": "ignored",
          "traceback": [
            "\u001b[0;31m---------------------------------------------------------------------------\u001b[0m",
            "\u001b[0;31mValueError\u001b[0m                                Traceback (most recent call last)",
            "\u001b[0;32m<ipython-input-13-3f3b4afe6853>\u001b[0m in \u001b[0;36m<module>\u001b[0;34m()\u001b[0m\n\u001b[0;32m----> 1\u001b[0;31m \u001b[0mint\u001b[0m\u001b[0;34m(\u001b[0m\u001b[0;34m\"hi\"\u001b[0m\u001b[0;34m)\u001b[0m\u001b[0;34m\u001b[0m\u001b[0;34m\u001b[0m\u001b[0m\n\u001b[0m",
            "\u001b[0;31mValueError\u001b[0m: invalid literal for int() with base 10: 'hi'"
          ]
        }
      ]
    },
    {
      "cell_type": "markdown",
      "metadata": {
        "id": "bDgVapCdzUCi"
      },
      "source": [
        "### StopIteration (is thrown when the next() function goes beyond the iterator items.)"
      ]
    },
    {
      "cell_type": "code",
      "metadata": {
        "id": "6p4vSSot-EBa"
      },
      "source": [
        "it=iter([1,2])"
      ],
      "execution_count": null,
      "outputs": []
    },
    {
      "cell_type": "code",
      "source": [
        "type(it)"
      ],
      "metadata": {
        "colab": {
          "base_uri": "https://localhost:8080/"
        },
        "id": "aJfnmJFKTmDI",
        "outputId": "dc44bc24-c6cb-4b27-93f7-367e586125ad"
      },
      "execution_count": null,
      "outputs": [
        {
          "output_type": "execute_result",
          "data": {
            "text/plain": [
              "list_iterator"
            ]
          },
          "metadata": {},
          "execution_count": 2
        }
      ]
    },
    {
      "cell_type": "code",
      "metadata": {
        "colab": {
          "base_uri": "https://localhost:8080/"
        },
        "id": "a8zEcGfU-Okv",
        "outputId": "3f5deb5a-f244-4c50-8c72-67716de0207e"
      },
      "source": [
        "next(it)"
      ],
      "execution_count": null,
      "outputs": [
        {
          "output_type": "execute_result",
          "data": {
            "text/plain": [
              "1"
            ]
          },
          "metadata": {
            "tags": []
          },
          "execution_count": 18
        }
      ]
    },
    {
      "cell_type": "code",
      "metadata": {
        "colab": {
          "base_uri": "https://localhost:8080/"
        },
        "id": "HAwZGY-3-RBb",
        "outputId": "9984abcf-529f-432d-b72d-29d673ba4406"
      },
      "source": [
        "next(it)"
      ],
      "execution_count": null,
      "outputs": [
        {
          "output_type": "execute_result",
          "data": {
            "text/plain": [
              "2"
            ]
          },
          "metadata": {
            "tags": []
          },
          "execution_count": 19
        }
      ]
    },
    {
      "cell_type": "code",
      "metadata": {
        "colab": {
          "base_uri": "https://localhost:8080/",
          "height": 163
        },
        "id": "5RLfwF68-SM9",
        "outputId": "1fe85acd-39e2-4735-bb8e-18f99f7c2a01"
      },
      "source": [
        "next(it)"
      ],
      "execution_count": null,
      "outputs": [
        {
          "output_type": "error",
          "ename": "StopIteration",
          "evalue": "ignored",
          "traceback": [
            "\u001b[0;31m---------------------------------------------------------------------------\u001b[0m",
            "\u001b[0;31mStopIteration\u001b[0m                             Traceback (most recent call last)",
            "\u001b[0;32m<ipython-input-20-bc1ab118995a>\u001b[0m in \u001b[0;36m<module>\u001b[0;34m()\u001b[0m\n\u001b[0;32m----> 1\u001b[0;31m \u001b[0mnext\u001b[0m\u001b[0;34m(\u001b[0m\u001b[0mit\u001b[0m\u001b[0;34m)\u001b[0m\u001b[0;34m\u001b[0m\u001b[0;34m\u001b[0m\u001b[0m\n\u001b[0m",
            "\u001b[0;31mStopIteration\u001b[0m: "
          ]
        }
      ]
    },
    {
      "cell_type": "markdown",
      "metadata": {
        "id": "H_L76_UdwRQH"
      },
      "source": [
        "### NameError (is thrown when an object could not be found)"
      ]
    },
    {
      "cell_type": "code",
      "metadata": {
        "colab": {
          "base_uri": "https://localhost:8080/",
          "height": 163
        },
        "id": "cUHuGTTxv8bh",
        "outputId": "5ef16593-988b-4f10-dd7d-c6d441301d29"
      },
      "source": [
        "print(hello)"
      ],
      "execution_count": null,
      "outputs": [
        {
          "output_type": "error",
          "ename": "NameError",
          "evalue": "ignored",
          "traceback": [
            "\u001b[0;31m---------------------------------------------------------------------------\u001b[0m",
            "\u001b[0;31mNameError\u001b[0m                                 Traceback (most recent call last)",
            "\u001b[0;32m<ipython-input-1-1cd80308eb4c>\u001b[0m in \u001b[0;36m<module>\u001b[0;34m()\u001b[0m\n\u001b[0;32m----> 1\u001b[0;31m \u001b[0mprint\u001b[0m\u001b[0;34m(\u001b[0m\u001b[0mhello\u001b[0m\u001b[0;34m)\u001b[0m\u001b[0;34m\u001b[0m\u001b[0;34m\u001b[0m\u001b[0m\n\u001b[0m",
            "\u001b[0;31mNameError\u001b[0m: name 'hello' is not defined"
          ]
        }
      ]
    },
    {
      "cell_type": "markdown",
      "metadata": {
        "id": "f63Ya3zxxMrX"
      },
      "source": [
        "### ImportError (is thrown when a specified function can not be found.)\n"
      ]
    },
    {
      "cell_type": "code",
      "metadata": {
        "colab": {
          "base_uri": "https://localhost:8080/",
          "height": 299
        },
        "id": "kk80WSXSzZ-f",
        "outputId": "61671ffe-8e57-475e-e8a6-a0ae4e84e43c"
      },
      "source": [
        "from math import cube"
      ],
      "execution_count": null,
      "outputs": [
        {
          "output_type": "error",
          "ename": "ImportError",
          "evalue": "ignored",
          "traceback": [
            "\u001b[0;31m---------------------------------------------------------------------------\u001b[0m",
            "\u001b[0;31mImportError\u001b[0m                               Traceback (most recent call last)",
            "\u001b[0;32m<ipython-input-14-ffce77e55cf3>\u001b[0m in \u001b[0;36m<module>\u001b[0;34m()\u001b[0m\n\u001b[0;32m----> 1\u001b[0;31m \u001b[0;32mfrom\u001b[0m \u001b[0mmath\u001b[0m \u001b[0;32mimport\u001b[0m \u001b[0mcube\u001b[0m\u001b[0;34m\u001b[0m\u001b[0;34m\u001b[0m\u001b[0m\n\u001b[0m",
            "\u001b[0;31mImportError\u001b[0m: cannot import name 'cube'",
            "",
            "\u001b[0;31m---------------------------------------------------------------------------\u001b[0;32m\nNOTE: If your import is failing due to a missing package, you can\nmanually install dependencies using either !pip or !apt.\n\nTo view examples of installing some common dependencies, click the\n\"Open Examples\" button below.\n\u001b[0;31m---------------------------------------------------------------------------\u001b[0m\n"
          ]
        }
      ]
    },
    {
      "cell_type": "markdown",
      "metadata": {
        "id": "r1NrCfV3-XAt"
      },
      "source": [
        "### ZeroDivisionError (is thrown when the second operator in the division is zero.)"
      ]
    },
    {
      "cell_type": "code",
      "metadata": {
        "colab": {
          "base_uri": "https://localhost:8080/",
          "height": 163
        },
        "id": "BJ5DTN_M-maN",
        "outputId": "6dbf507d-0fd4-4623-9184-d78cb8e3fd36"
      },
      "source": [
        "x=100/0"
      ],
      "execution_count": null,
      "outputs": [
        {
          "output_type": "error",
          "ename": "ZeroDivisionError",
          "evalue": "ignored",
          "traceback": [
            "\u001b[0;31m---------------------------------------------------------------------------\u001b[0m",
            "\u001b[0;31mZeroDivisionError\u001b[0m                         Traceback (most recent call last)",
            "\u001b[0;32m<ipython-input-21-fc4fba679132>\u001b[0m in \u001b[0;36m<module>\u001b[0;34m()\u001b[0m\n\u001b[0;32m----> 1\u001b[0;31m \u001b[0mx\u001b[0m\u001b[0;34m=\u001b[0m\u001b[0;36m100\u001b[0m\u001b[0;34m/\u001b[0m\u001b[0;36m0\u001b[0m\u001b[0;34m\u001b[0m\u001b[0;34m\u001b[0m\u001b[0m\n\u001b[0m",
            "\u001b[0;31mZeroDivisionError\u001b[0m: division by zero"
          ]
        }
      ]
    },
    {
      "cell_type": "markdown",
      "metadata": {
        "id": "14Cd9qgg-v7m"
      },
      "source": [
        "### KeyboardInterrupt (is thrown when the user hits the interrupt key (normally Control-C) during the execution of the program.)"
      ]
    },
    {
      "cell_type": "code",
      "metadata": {
        "colab": {
          "base_uri": "https://localhost:8080/",
          "height": 611
        },
        "id": "QBTNwxjF-oSs",
        "outputId": "7f9384ff-18c2-4447-cab4-de5de1eb4b3f"
      },
      "source": [
        "name=input('enter your name')"
      ],
      "execution_count": null,
      "outputs": [
        {
          "output_type": "error",
          "ename": "KeyboardInterrupt",
          "evalue": "ignored",
          "traceback": [
            "\u001b[0;31m---------------------------------------------------------------------------\u001b[0m",
            "\u001b[0;31mKeyboardInterrupt\u001b[0m                         Traceback (most recent call last)",
            "\u001b[0;32m/usr/local/lib/python3.7/dist-packages/ipykernel/kernelbase.py\u001b[0m in \u001b[0;36m_input_request\u001b[0;34m(self, prompt, ident, parent, password)\u001b[0m\n\u001b[1;32m    728\u001b[0m             \u001b[0;32mtry\u001b[0m\u001b[0;34m:\u001b[0m\u001b[0;34m\u001b[0m\u001b[0;34m\u001b[0m\u001b[0m\n\u001b[0;32m--> 729\u001b[0;31m                 \u001b[0mident\u001b[0m\u001b[0;34m,\u001b[0m \u001b[0mreply\u001b[0m \u001b[0;34m=\u001b[0m \u001b[0mself\u001b[0m\u001b[0;34m.\u001b[0m\u001b[0msession\u001b[0m\u001b[0;34m.\u001b[0m\u001b[0mrecv\u001b[0m\u001b[0;34m(\u001b[0m\u001b[0mself\u001b[0m\u001b[0;34m.\u001b[0m\u001b[0mstdin_socket\u001b[0m\u001b[0;34m,\u001b[0m \u001b[0;36m0\u001b[0m\u001b[0;34m)\u001b[0m\u001b[0;34m\u001b[0m\u001b[0;34m\u001b[0m\u001b[0m\n\u001b[0m\u001b[1;32m    730\u001b[0m             \u001b[0;32mexcept\u001b[0m \u001b[0mException\u001b[0m\u001b[0;34m:\u001b[0m\u001b[0;34m\u001b[0m\u001b[0;34m\u001b[0m\u001b[0m\n",
            "\u001b[0;32m/usr/local/lib/python3.7/dist-packages/jupyter_client/session.py\u001b[0m in \u001b[0;36mrecv\u001b[0;34m(self, socket, mode, content, copy)\u001b[0m\n\u001b[1;32m    802\u001b[0m         \u001b[0;32mtry\u001b[0m\u001b[0;34m:\u001b[0m\u001b[0;34m\u001b[0m\u001b[0;34m\u001b[0m\u001b[0m\n\u001b[0;32m--> 803\u001b[0;31m             \u001b[0mmsg_list\u001b[0m \u001b[0;34m=\u001b[0m \u001b[0msocket\u001b[0m\u001b[0;34m.\u001b[0m\u001b[0mrecv_multipart\u001b[0m\u001b[0;34m(\u001b[0m\u001b[0mmode\u001b[0m\u001b[0;34m,\u001b[0m \u001b[0mcopy\u001b[0m\u001b[0;34m=\u001b[0m\u001b[0mcopy\u001b[0m\u001b[0;34m)\u001b[0m\u001b[0;34m\u001b[0m\u001b[0;34m\u001b[0m\u001b[0m\n\u001b[0m\u001b[1;32m    804\u001b[0m         \u001b[0;32mexcept\u001b[0m \u001b[0mzmq\u001b[0m\u001b[0;34m.\u001b[0m\u001b[0mZMQError\u001b[0m \u001b[0;32mas\u001b[0m \u001b[0me\u001b[0m\u001b[0;34m:\u001b[0m\u001b[0;34m\u001b[0m\u001b[0;34m\u001b[0m\u001b[0m\n",
            "\u001b[0;32m/usr/local/lib/python3.7/dist-packages/zmq/sugar/socket.py\u001b[0m in \u001b[0;36mrecv_multipart\u001b[0;34m(self, flags, copy, track)\u001b[0m\n\u001b[1;32m    624\u001b[0m         \"\"\"\n\u001b[0;32m--> 625\u001b[0;31m         \u001b[0mparts\u001b[0m \u001b[0;34m=\u001b[0m \u001b[0;34m[\u001b[0m\u001b[0mself\u001b[0m\u001b[0;34m.\u001b[0m\u001b[0mrecv\u001b[0m\u001b[0;34m(\u001b[0m\u001b[0mflags\u001b[0m\u001b[0;34m,\u001b[0m \u001b[0mcopy\u001b[0m\u001b[0;34m=\u001b[0m\u001b[0mcopy\u001b[0m\u001b[0;34m,\u001b[0m \u001b[0mtrack\u001b[0m\u001b[0;34m=\u001b[0m\u001b[0mtrack\u001b[0m\u001b[0;34m)\u001b[0m\u001b[0;34m]\u001b[0m\u001b[0;34m\u001b[0m\u001b[0;34m\u001b[0m\u001b[0m\n\u001b[0m\u001b[1;32m    626\u001b[0m         \u001b[0;31m# have first part already, only loop while more to receive\u001b[0m\u001b[0;34m\u001b[0m\u001b[0;34m\u001b[0m\u001b[0;34m\u001b[0m\u001b[0m\n",
            "\u001b[0;32mzmq/backend/cython/socket.pyx\u001b[0m in \u001b[0;36mzmq.backend.cython.socket.Socket.recv\u001b[0;34m()\u001b[0m\n",
            "\u001b[0;32mzmq/backend/cython/socket.pyx\u001b[0m in \u001b[0;36mzmq.backend.cython.socket.Socket.recv\u001b[0;34m()\u001b[0m\n",
            "\u001b[0;32mzmq/backend/cython/socket.pyx\u001b[0m in \u001b[0;36mzmq.backend.cython.socket._recv_copy\u001b[0;34m()\u001b[0m\n",
            "\u001b[0;32m/usr/local/lib/python3.7/dist-packages/zmq/backend/cython/checkrc.pxd\u001b[0m in \u001b[0;36mzmq.backend.cython.checkrc._check_rc\u001b[0;34m()\u001b[0m\n",
            "\u001b[0;31mKeyboardInterrupt\u001b[0m: ",
            "\nDuring handling of the above exception, another exception occurred:\n",
            "\u001b[0;31mKeyboardInterrupt\u001b[0m                         Traceback (most recent call last)",
            "\u001b[0;32m<ipython-input-4-a50f6d65b0fa>\u001b[0m in \u001b[0;36m<module>\u001b[0;34m()\u001b[0m\n\u001b[0;32m----> 1\u001b[0;31m \u001b[0mname\u001b[0m\u001b[0;34m=\u001b[0m\u001b[0minput\u001b[0m\u001b[0;34m(\u001b[0m\u001b[0;34m'enter your name'\u001b[0m\u001b[0;34m)\u001b[0m\u001b[0;34m\u001b[0m\u001b[0;34m\u001b[0m\u001b[0m\n\u001b[0m",
            "\u001b[0;32m/usr/local/lib/python3.7/dist-packages/ipykernel/kernelbase.py\u001b[0m in \u001b[0;36mraw_input\u001b[0;34m(self, prompt)\u001b[0m\n\u001b[1;32m    702\u001b[0m             \u001b[0mself\u001b[0m\u001b[0;34m.\u001b[0m\u001b[0m_parent_ident\u001b[0m\u001b[0;34m,\u001b[0m\u001b[0;34m\u001b[0m\u001b[0;34m\u001b[0m\u001b[0m\n\u001b[1;32m    703\u001b[0m             \u001b[0mself\u001b[0m\u001b[0;34m.\u001b[0m\u001b[0m_parent_header\u001b[0m\u001b[0;34m,\u001b[0m\u001b[0;34m\u001b[0m\u001b[0;34m\u001b[0m\u001b[0m\n\u001b[0;32m--> 704\u001b[0;31m             \u001b[0mpassword\u001b[0m\u001b[0;34m=\u001b[0m\u001b[0;32mFalse\u001b[0m\u001b[0;34m,\u001b[0m\u001b[0;34m\u001b[0m\u001b[0;34m\u001b[0m\u001b[0m\n\u001b[0m\u001b[1;32m    705\u001b[0m         )\n\u001b[1;32m    706\u001b[0m \u001b[0;34m\u001b[0m\u001b[0m\n",
            "\u001b[0;32m/usr/local/lib/python3.7/dist-packages/ipykernel/kernelbase.py\u001b[0m in \u001b[0;36m_input_request\u001b[0;34m(self, prompt, ident, parent, password)\u001b[0m\n\u001b[1;32m    732\u001b[0m             \u001b[0;32mexcept\u001b[0m \u001b[0mKeyboardInterrupt\u001b[0m\u001b[0;34m:\u001b[0m\u001b[0;34m\u001b[0m\u001b[0;34m\u001b[0m\u001b[0m\n\u001b[1;32m    733\u001b[0m                 \u001b[0;31m# re-raise KeyboardInterrupt, to truncate traceback\u001b[0m\u001b[0;34m\u001b[0m\u001b[0;34m\u001b[0m\u001b[0;34m\u001b[0m\u001b[0m\n\u001b[0;32m--> 734\u001b[0;31m                 \u001b[0;32mraise\u001b[0m \u001b[0mKeyboardInterrupt\u001b[0m\u001b[0;34m\u001b[0m\u001b[0;34m\u001b[0m\u001b[0m\n\u001b[0m\u001b[1;32m    735\u001b[0m             \u001b[0;32melse\u001b[0m\u001b[0;34m:\u001b[0m\u001b[0;34m\u001b[0m\u001b[0;34m\u001b[0m\u001b[0m\n\u001b[1;32m    736\u001b[0m                 \u001b[0;32mbreak\u001b[0m\u001b[0;34m\u001b[0m\u001b[0;34m\u001b[0m\u001b[0m\n",
            "\u001b[0;31mKeyboardInterrupt\u001b[0m: "
          ]
        }
      ]
    },
    {
      "cell_type": "markdown",
      "metadata": {
        "id": "IaOPgxW1SufU"
      },
      "source": [
        "## **Trick: 5 : Handle error**"
      ]
    },
    {
      "cell_type": "markdown",
      "metadata": {
        "id": "Wt14O5WKS1jR"
      },
      "source": [
        "\n",
        "\n",
        "```\n",
        "try:\n",
        " \n",
        "except Exception as e:\n",
        "      logger.error(e)\n",
        "           \n",
        "```\n",
        "\n"
      ]
    },
    {
      "cell_type": "code",
      "metadata": {
        "colab": {
          "base_uri": "https://localhost:8080/",
          "height": 134
        },
        "id": "DiKDJZlUtHva",
        "outputId": "e41e3268-2500-4e26-ee96-5856a10a842d"
      },
      "source": [
        "# Why syntaxerror did't catch by except\n",
        "\n",
        "try: \n",
        "  print(\n",
        "except SyntaxError as  e:\n",
        "  print(\"The error in above block is :\",e)"
      ],
      "execution_count": null,
      "outputs": [
        {
          "output_type": "error",
          "ename": "SyntaxError",
          "evalue": "ignored",
          "traceback": [
            "\u001b[0;36m  File \u001b[0;32m\"<ipython-input-5-deb27ac6ef46>\"\u001b[0;36m, line \u001b[0;32m5\u001b[0m\n\u001b[0;31m    except SyntaxError as  e:\u001b[0m\n\u001b[0m         ^\u001b[0m\n\u001b[0;31mSyntaxError\u001b[0m\u001b[0;31m:\u001b[0m invalid syntax\n"
          ]
        }
      ]
    },
    {
      "cell_type": "code",
      "source": [],
      "metadata": {
        "id": "ltPrcjEwUhJZ"
      },
      "execution_count": null,
      "outputs": []
    }
  ]
}